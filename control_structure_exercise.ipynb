{
 "cells": [
  {
   "cell_type": "markdown",
   "id": "3931fb6f-3627-4b84-b412-3702d6c6bd4b",
   "metadata": {},
   "source": [
    "# Conditional Basics\n",
    "\n",
    "    "
   ]
  },
  {
   "cell_type": "markdown",
   "id": "c3223b23-05a6-492d-bbb7-d2c2e5158ff1",
   "metadata": {},
   "source": [
    "### Prompt the user for a day of the week, print out whether the day is Monday or not\n"
   ]
  },
  {
   "cell_type": "code",
   "execution_count": 6,
   "id": "389cf2fb-fdd7-41e0-afd7-8e3dfe37c320",
   "metadata": {},
   "outputs": [
    {
     "name": "stdout",
     "output_type": "stream",
     "text": [
      "This is NOT monday\n"
     ]
    }
   ],
   "source": [
    "day = input('give me the day of the week: ')\n",
    "#day = day.upper()\n",
    "\n",
    "#then put it in an if, else\n",
    "if day.lower() == 'monday':\n",
    "    print('This is monday!')\n",
    "else:\n",
    "    print('This is NOT monday')"
   ]
  },
  {
   "cell_type": "markdown",
   "id": "b03b1a0c-b610-4853-9f18-3d95e99ad8aa",
   "metadata": {},
   "source": [
    "### Prompt the user for a day of the week, print out whether the day is a weekday or a weekend"
   ]
  },
  {
   "cell_type": "code",
   "execution_count": 7,
   "id": "cf697a3c-cec0-4a09-9614-726140e4b43d",
   "metadata": {},
   "outputs": [
    {
     "name": "stdout",
     "output_type": "stream",
     "text": [
      "this is the weekend\n"
     ]
    }
   ],
   "source": [
    "weekend = ['saturday', 'sunday']\n",
    "day = input('give me the day of the week: ')\n",
    "\n",
    "if day.lower() in weekend:\n",
    "    print('this is the weekend')\n",
    "else:\n",
    "    print('this is NOT the weekend')"
   ]
  },
  {
   "cell_type": "markdown",
   "id": "cc7d3bde-81eb-4c46-b462-b612d490a772",
   "metadata": {},
   "source": [
    "### Calculate a weekly paycheck, accounting for overtime pay. Create variables and make up values for:\n",
    "\n",
    "#### The number of hours worked in one week\n",
    "#### The hourly rate\n",
    "#### For calculating pay:\n",
    "\n",
    "#### For working 40 hours or less, each hour is paid at the hourly rate\n",
    "#### For working more than 40 hours\n",
    "\n",
    "#### the first 40 hours are paid at the hourly rate\n",
    "\n",
    "#### each hour after 40 is paid at time and a half (hourly rate * 1.5) \n"
   ]
  },
  {
   "cell_type": "code",
   "execution_count": 9,
   "id": "77854267-1f50-498f-8a5f-232105f39c02",
   "metadata": {},
   "outputs": [
    {
     "data": {
      "text/plain": [
       "622.5"
      ]
     },
     "execution_count": 9,
     "metadata": {},
     "output_type": "execute_result"
    }
   ],
   "source": [
    "hours_weekly = 41\n",
    "hourly_rate = 15\n",
    "\n",
    "if hours_weekly <= 40:\n",
    "    paycheck = hours_weekly * hourly_rate\n",
    "else:\n",
    "    ot_hours = hours_weekly - 40\n",
    "    paycheck = (hourly_rate*40) + (ot_hours*hourly_rate*1.5)\n",
    "\n",
    "paycheck"
   ]
  },
  {
   "cell_type": "code",
   "execution_count": 10,
   "id": "053ad07c",
   "metadata": {},
   "outputs": [
    {
     "name": "stdout",
     "output_type": "stream",
     "text": [
      "Your weekly paycheck is 770.00\n"
     ]
    }
   ],
   "source": [
    "#inputs for hours and salary\n",
    "hours_worked = input('how many hours did you work: ')\n",
    "h= float(hours_worked)\n",
    "hourly_pay = input('what is your hourly pay: ')\n",
    "p= float(hourly_pay)\n",
    "\n",
    "\n",
    "if h <= 40:\n",
    "    pay = h*p\n",
    "else:\n",
    "    h > 40\n",
    "    pay = ((h-40)*p*1.5)+p*40   \n",
    "\n",
    "print (\"Your weekly paycheck is %.2f\" %pay)"
   ]
  },
  {
   "cell_type": "markdown",
   "id": "f3629d5e-2bfb-4a7b-992f-17e1c9c129de",
   "metadata": {},
   "source": [
    "## Loop Basics"
   ]
  },
  {
   "cell_type": "markdown",
   "id": "8fbf521e-c385-48bc-b596-5a2b1985b682",
   "metadata": {},
   "source": [
    "#### Create an integer variable i with a value of 5. \n",
    "#### Create a while loop that runs so long as i is less than or equal to 15. \n",
    "\n",
    "#### Each loop iteration, output the current value of i, then increment i by one."
   ]
  },
  {
   "cell_type": "code",
   "execution_count": 163,
   "id": "52923557-a6d8-415c-9b8c-e3faf1380200",
   "metadata": {},
   "outputs": [
    {
     "name": "stdout",
     "output_type": "stream",
     "text": [
      "5\n",
      "6\n",
      "7\n",
      "8\n",
      "9\n",
      "10\n",
      "11\n",
      "12\n",
      "13\n",
      "14\n",
      "15\n"
     ]
    }
   ],
   "source": [
    "i = 5\n",
    "while i <= 15:\n",
    "    print(i)\n",
    "    i += 1"
   ]
  },
  {
   "cell_type": "markdown",
   "id": "334610f4-ee54-4e7c-a595-36810db5381c",
   "metadata": {},
   "source": [
    "#### Create a while loop that will count by 2's starting with 0 and ending at 100. Follow each number with a new line."
   ]
  },
  {
   "cell_type": "code",
   "execution_count": 11,
   "id": "64b4cd8b-f28d-402b-be0c-b3e2d519b468",
   "metadata": {},
   "outputs": [
    {
     "name": "stdout",
     "output_type": "stream",
     "text": [
      "0\n",
      "2\n",
      "4\n",
      "6\n",
      "8\n",
      "10\n",
      "12\n",
      "14\n",
      "16\n",
      "18\n",
      "20\n",
      "22\n",
      "24\n",
      "26\n",
      "28\n",
      "30\n",
      "32\n",
      "34\n",
      "36\n",
      "38\n",
      "40\n",
      "42\n",
      "44\n",
      "46\n",
      "48\n",
      "50\n",
      "52\n",
      "54\n",
      "56\n",
      "58\n",
      "60\n",
      "62\n",
      "64\n",
      "66\n",
      "68\n",
      "70\n",
      "72\n",
      "74\n",
      "76\n",
      "78\n",
      "80\n",
      "82\n",
      "84\n",
      "86\n",
      "88\n",
      "90\n",
      "92\n",
      "94\n",
      "96\n",
      "98\n",
      "100\n"
     ]
    }
   ],
   "source": [
    "j = 0\n",
    "while j <= 100:\n",
    "    print(j)\n",
    "    j += 2"
   ]
  },
  {
   "cell_type": "markdown",
   "id": "56921a43-a567-43ba-a6d5-f7052fceb8df",
   "metadata": {},
   "source": [
    "### Create a while loop that starts at 2, and displays the number squared on each line while the number is less than 1,000,000. Output should equal:"
   ]
  },
  {
   "cell_type": "code",
   "execution_count": 3,
   "id": "c086bd1d",
   "metadata": {},
   "outputs": [
    {
     "name": "stdout",
     "output_type": "stream",
     "text": [
      "2\n",
      "4\n",
      "16\n",
      "256\n",
      "65536\n"
     ]
    }
   ],
   "source": [
    "i = 2\n",
    "while i <= 1_000_000:\n",
    "    print(i)\n",
    "    i **= 2"
   ]
  },
  {
   "cell_type": "markdown",
   "id": "0301f7e2",
   "metadata": {},
   "source": []
  },
  {
   "cell_type": "code",
   "execution_count": 23,
   "id": "caf76f18-c0d9-4b83-b75c-edd763ebd34f",
   "metadata": {},
   "outputs": [
    {
     "name": "stdout",
     "output_type": "stream",
     "text": [
      "100\n",
      "95\n",
      "90\n",
      "85\n",
      "80\n",
      "75\n",
      "70\n",
      "65\n",
      "60\n",
      "55\n",
      "50\n",
      "45\n",
      "40\n",
      "35\n",
      "30\n",
      "25\n",
      "20\n",
      "15\n",
      "10\n",
      "5\n"
     ]
    }
   ],
   "source": [
    "j = 100\n",
    "while j > 1:\n",
    "    print(j)\n",
    "    j -= 5"
   ]
  },
  {
   "cell_type": "markdown",
   "id": "43372295-72f2-46bf-b402-8de466b2f46c",
   "metadata": {},
   "source": [
    "#### Write some code using a for loop that prompts the user for a number, then shows a multiplication table up through 10 for that number.\n",
    "\n",
    "#### For example, if the user enters 7, your program should output:"
   ]
  },
  {
   "cell_type": "code",
   "execution_count": 12,
   "id": "eb50597d-38be-4e12-9231-09cd22884f09",
   "metadata": {},
   "outputs": [
    {
     "name": "stdout",
     "output_type": "stream",
     "text": [
      "<class 'int'>\n",
      "1 x 7 = 7\n",
      "2 x 7 = 14\n",
      "3 x 7 = 21\n",
      "4 x 7 = 28\n",
      "5 x 7 = 35\n",
      "6 x 7 = 42\n",
      "7 x 7 = 49\n",
      "8 x 7 = 56\n",
      "9 x 7 = 63\n",
      "10 x 7 = 70\n"
     ]
    }
   ],
   "source": [
    "multiply_by = int(input('enter a number: ')) \n",
    "\n",
    "print(type(multiply_by))\n",
    "\n",
    "for i in range(1,11):\n",
    "    print(f'{i} x {multiply_by} = {i*multiply_by}')"
   ]
  },
  {
   "cell_type": "code",
   "execution_count": 52,
   "id": "7acf820e-3320-4514-aec2-62ac93ce15f1",
   "metadata": {},
   "outputs": [
    {
     "name": "stdout",
     "output_type": "stream",
     "text": [
      "1\n",
      "22\n",
      "333\n",
      "4444\n",
      "55555\n",
      "666666\n",
      "7777777\n",
      "88888888\n",
      "999999999\n"
     ]
    }
   ],
   "source": [
    "n = int(input(\"Enter number of rows: \"))\n",
    "\n",
    "for i in range(1,n+1):\n",
    "    for j in range(1, i+1):\n",
    "        print(i, end=\"\")\n",
    "    print()"
   ]
  },
  {
   "cell_type": "code",
   "execution_count": 13,
   "id": "47c1420c",
   "metadata": {},
   "outputs": [
    {
     "name": "stdout",
     "output_type": "stream",
     "text": [
      "1\n",
      "22\n",
      "333\n",
      "4444\n",
      "55555\n",
      "666666\n",
      "7777777\n",
      "88888888\n",
      "999999999\n"
     ]
    }
   ],
   "source": [
    "for i in range(1,10):\n",
    "    print(str(i)*i)"
   ]
  },
  {
   "cell_type": "markdown",
   "id": "72a03b55",
   "metadata": {},
   "source": [
    "Write a program that prompts the user for a positive integer. Next write a loop that prints out the numbers from the number the user entered down to 1.\n"
   ]
  },
  {
   "cell_type": "code",
   "execution_count": 15,
   "id": "798255b1-f683-42ea-8e1c-804e7dd89e43",
   "metadata": {},
   "outputs": [
    {
     "name": "stdout",
     "output_type": "stream",
     "text": [
      "7\n",
      "6\n",
      "5\n",
      "4\n",
      "3\n",
      "2\n",
      "1\n"
     ]
    }
   ],
   "source": [
    "number = int(input('Positive number'))\n",
    "\n",
    "while number > 0:\n",
    "    print(number)\n",
    "    number -= 1 "
   ]
  },
  {
   "cell_type": "code",
   "execution_count": 14,
   "id": "ad975f37",
   "metadata": {},
   "outputs": [
    {
     "name": "stdout",
     "output_type": "stream",
     "text": [
      "7\n",
      "6\n",
      "5\n",
      "4\n",
      "3\n",
      "2\n",
      "1\n"
     ]
    }
   ],
   "source": [
    "pos_num = int(input('enter a positive integer: '))\n",
    "\n",
    "for i in range(pos_num,0,-1):\n",
    "    print(i)"
   ]
  },
  {
   "cell_type": "code",
   "execution_count": 16,
   "id": "d71a2238",
   "metadata": {},
   "outputs": [
    {
     "name": "stdout",
     "output_type": "stream",
     "text": [
      "0\n",
      "1\n",
      "2\n",
      "3\n",
      "4\n",
      "5\n",
      "6\n",
      "7\n"
     ]
    }
   ],
   "source": [
    "numb = int(input('enter a positive number: '))\n",
    "\n",
    "for i in range(numb+1):\n",
    "    print(i)"
   ]
  },
  {
   "cell_type": "code",
   "execution_count": 17,
   "id": "3be7f009-1435-4855-aa0b-a988306b253d",
   "metadata": {},
   "outputs": [
    {
     "name": "stdout",
     "output_type": "stream",
     "text": [
      "1\n",
      "3\n",
      "5\n",
      "7\n",
      "9\n",
      "11\n",
      "13\n",
      "15\n",
      "17\n",
      "19\n",
      "21\n",
      "23\n",
      "SKIP THIS NUMBER: 25\n",
      "27\n",
      "29\n",
      "31\n",
      "33\n",
      "35\n",
      "37\n",
      "39\n",
      "41\n",
      "43\n",
      "45\n",
      "47\n",
      "49\n"
     ]
    }
   ],
   "source": [
    "while True:\n",
    "    numb = input('enter a odd number between 1 and 50: ')\n",
    "    \n",
    "    if numb.isdigit() == False:\n",
    "        print('invalid entry. this is NOT a number.')\n",
    "        continue\n",
    "    numb = int(numb)\n",
    "    if numb % 2 == 0:\n",
    "        print('invalid entry. this is EVEN.')\n",
    "        continue\n",
    "    if numb < 1 or numb > 50:\n",
    "        print('invalid entry. this is out of range.')\n",
    "        continue\n",
    "    break\n",
    "    \n",
    "for i in range(1,51,2):\n",
    "    if i == numb:\n",
    "        print(f'SKIP THIS NUMBER: {numb}')\n",
    "        continue\n",
    "    print(i)"
   ]
  },
  {
   "cell_type": "markdown",
   "id": "5edaff57-2dee-4c98-a427-01be866ae19f",
   "metadata": {},
   "source": [
    "##### Write a program that prints the numbers from 1 to 100.\n",
    "##### For multiples of three print \"Fizz\" instead of the number\n",
    "##### For the multiples of five print \"Buzz\".\n",
    "##### For numbers which are multiples of both three and five print \"FizzBuzz\"."
   ]
  },
  {
   "cell_type": "code",
   "execution_count": 22,
   "id": "3800b71a-7dc4-464f-9427-c83b8a57bf05",
   "metadata": {},
   "outputs": [
    {
     "name": "stdout",
     "output_type": "stream",
     "text": [
      "1\n",
      "2\n",
      "Fizz\n",
      "4\n",
      "Buzz\n",
      "Fizz\n",
      "7\n",
      "8\n",
      "Fizz\n",
      "Buzz\n",
      "11\n",
      "Fizz\n",
      "13\n",
      "14\n",
      "FizzBuzz\n",
      "16\n",
      "17\n",
      "Fizz\n",
      "19\n",
      "Buzz\n",
      "Fizz\n",
      "22\n",
      "23\n",
      "Fizz\n",
      "Buzz\n",
      "26\n",
      "Fizz\n",
      "28\n",
      "29\n",
      "FizzBuzz\n",
      "31\n",
      "32\n",
      "Fizz\n",
      "34\n",
      "Buzz\n",
      "Fizz\n",
      "37\n",
      "38\n",
      "Fizz\n",
      "Buzz\n",
      "41\n",
      "Fizz\n",
      "43\n",
      "44\n",
      "FizzBuzz\n",
      "46\n",
      "47\n",
      "Fizz\n",
      "49\n",
      "Buzz\n",
      "Fizz\n",
      "52\n",
      "53\n",
      "Fizz\n",
      "Buzz\n",
      "56\n",
      "Fizz\n",
      "58\n",
      "59\n",
      "FizzBuzz\n",
      "61\n",
      "62\n",
      "Fizz\n",
      "64\n",
      "Buzz\n",
      "Fizz\n",
      "67\n",
      "68\n",
      "Fizz\n",
      "Buzz\n",
      "71\n",
      "Fizz\n",
      "73\n",
      "74\n",
      "FizzBuzz\n",
      "76\n",
      "77\n",
      "Fizz\n",
      "79\n",
      "Buzz\n",
      "Fizz\n",
      "82\n",
      "83\n",
      "Fizz\n",
      "Buzz\n",
      "86\n",
      "Fizz\n",
      "88\n",
      "89\n",
      "FizzBuzz\n",
      "91\n",
      "92\n",
      "Fizz\n",
      "94\n",
      "Buzz\n",
      "Fizz\n",
      "97\n",
      "98\n",
      "Fizz\n",
      "Buzz\n"
     ]
    }
   ],
   "source": [
    "for i in range(1,101):\n",
    "    if (i % 3 == 0) and ( i % 5 == 0 ):\n",
    "        print('FizzBuzz')\n",
    "        continue\n",
    "    if i % 3 == 0:\n",
    "        print('Fizz')\n",
    "        continue\n",
    "    if i % 5 == 0:\n",
    "        print('Buzz')\n",
    "        continue        \n",
    "    print(i)"
   ]
  },
  {
   "cell_type": "markdown",
   "id": "eb421fde-f974-42fe-aa69-6dbb1ecfae97",
   "metadata": {},
   "source": [
    "##### Prompt the user to enter an integer\n",
    "##### Display a table of squares and cubes from 1 to the value entered\n",
    "##### Ask if the user wants to continue\n",
    "##### Assume that the user will enter valid data\n",
    "##### Only continue if the user agrees to"
   ]
  },
  {
   "cell_type": "code",
   "execution_count": 111,
   "id": "755a73c5-519d-47dc-9fc2-99261d0fc5d2",
   "metadata": {},
   "outputs": [
    {
     "name": "stdout",
     "output_type": "stream",
     "text": [
      "217\n"
     ]
    }
   ],
   "source": [
    "think = int(input('Type in a number'))\n"
   ]
  },
  {
   "cell_type": "code",
   "execution_count": 125,
   "id": "ad33fc55-df2e-4b98-bd4e-b9dd25fdb579",
   "metadata": {},
   "outputs": [
    {
     "name": "stdout",
     "output_type": "stream",
     "text": [
      "number\tsquare\tcube\n",
      "0\t0\t0\n",
      "1\t1\t1\n",
      "2\t4\t8\n",
      "3\t9\t27\n",
      "4\t16\t64\n",
      "5\t25\t125\n",
      "6\t36\t216\n",
      "7\t49\t343\n",
      "8\t64\t512\n",
      "9\t81\t729\n",
      "10\t100\t1000\n",
      "11\t121\t1331\n",
      "12\t144\t1728\n",
      "13\t169\t2197\n",
      "14\t196\t2744\n",
      "15\t225\t3375\n"
     ]
    }
   ],
   "source": [
    "think = int(input('Type in a number'))\n",
    "number = think\n",
    "square = think\n",
    "cube = think\n",
    "\n",
    "print('number\\tsquare\\tcube')\n",
    "\n",
    "for number in range(0, think):\n",
    "    square = number **2\n",
    "    cube = number **3\n",
    "    print(f'{number}\\t{square}\\t{cube}')\n",
    "cont = input('do you want to continue')\n"
   ]
  },
  {
   "cell_type": "markdown",
   "id": "85e414f2-7e2a-4fb1-ab38-a51375a887b5",
   "metadata": {},
   "source": [
    "##### Convert given number grades into letter grades.\n",
    "\n",
    "###### Prompt the user for a numerical grade from 0 to 100\n",
    "###### Display the corresponding letter grade\n",
    "###### Prompt the user to continue\n",
    "###### Assume that the user will enter valid integers for the grades\n",
    "###### The application should only continue if the user agrees to\n",
    "###### Grade Ranges:\n",
    "\n",
    "###### A : 100 - 88\n",
    "###### B : 87 - 80\n",
    "###### C : 79 - 67\n",
    "###### D : 66 - 60\n",
    "###### F : 59 - 0"
   ]
  },
  {
   "cell_type": "code",
   "execution_count": 25,
   "id": "c37eff84-0c60-4ee3-81ca-69f0bb7ec767",
   "metadata": {},
   "outputs": [
    {
     "name": "stdout",
     "output_type": "stream",
     "text": [
      "B\n"
     ]
    }
   ],
   "source": [
    "#put it all together\n",
    "while True:\n",
    "    user_grade = int(input('Enter a numerical grade from 0 - 100: '))\n",
    "\n",
    "    if user_grade >= 88:\n",
    "        print('A')\n",
    "    elif user_grade >= 80:\n",
    "        print('B')\n",
    "    elif user_grade >= 67:\n",
    "        print('C')\n",
    "    elif user_grade >= 60:\n",
    "        print('D')\n",
    "    else:\n",
    "        print('F')\n",
    "        \n",
    "    user_yn = input('Would you like to continue? (y/n) ')\n",
    "    if user_yn.lower() != 'y':\n",
    "        break"
   ]
  },
  {
   "cell_type": "markdown",
   "id": "329d8474-4d00-4bf1-b94a-f933f6a5091e",
   "metadata": {},
   "source": [
    "Create a list of dictionaries where each dictionary represents a book that you have read. \n",
    "Each dictionary in the list should have the keys title, author, and genre. \n",
    "\n",
    "Loop through the list and print out information about each book.\n",
    "\n",
    "Prompt the user to enter a genre, then loop through your books list and print out the titles of all the books in that genre."
   ]
  },
  {
   "cell_type": "code",
   "execution_count": 27,
   "id": "8d4b2217-ce01-467e-b96e-76e9e42cc3b0",
   "metadata": {},
   "outputs": [
    {
     "name": "stdout",
     "output_type": "stream",
     "text": [
      "The Builders\n"
     ]
    }
   ],
   "source": [
    "books = [{'title': 'The Builders', 'author': 'Daniel Polansky', 'genre': 'Fantasy'}, \n",
    "         {'title': 'The art of resilience', 'author': 'Ross Edgley', 'genre': 'Self Help'},\n",
    "         {'title': 'Sapiens', 'author': 'Yuval Noah Harari', 'genre': 'Non-Fiction'}]\n",
    "\n",
    "\n",
    "input_genre = input('enter genre')\n",
    "\n",
    "for book in books:\n",
    "    if book['genre'] == input_genre:\n",
    "        print(book['title'])"
   ]
  }
 ],
 "metadata": {
  "kernelspec": {
   "display_name": "Python 3 (ipykernel)",
   "language": "python",
   "name": "python3"
  },
  "language_info": {
   "codemirror_mode": {
    "name": "ipython",
    "version": 3
   },
   "file_extension": ".py",
   "mimetype": "text/x-python",
   "name": "python",
   "nbconvert_exporter": "python",
   "pygments_lexer": "ipython3",
   "version": "3.9.6"
  }
 },
 "nbformat": 4,
 "nbformat_minor": 5
}
