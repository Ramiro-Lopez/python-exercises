{
 "cells": [
  {
   "cell_type": "markdown",
   "id": "d948bfac",
   "metadata": {},
   "source": [
    "Identify the data type of the following values:"
   ]
  },
  {
   "cell_type": "code",
   "execution_count": 56,
   "id": "87817d93",
   "metadata": {},
   "outputs": [
    {
     "data": {
      "text/plain": [
       "float"
      ]
     },
     "execution_count": 56,
     "metadata": {},
     "output_type": "execute_result"
    }
   ],
   "source": [
    "type(99.9)\n",
    "# float"
   ]
  },
  {
   "cell_type": "code",
   "execution_count": 57,
   "id": "6662c167",
   "metadata": {},
   "outputs": [
    {
     "data": {
      "text/plain": [
       "str"
      ]
     },
     "execution_count": 57,
     "metadata": {},
     "output_type": "execute_result"
    }
   ],
   "source": [
    "type('False')\n",
    "# string"
   ]
  },
  {
   "cell_type": "code",
   "execution_count": 59,
   "id": "0941292b",
   "metadata": {},
   "outputs": [
    {
     "data": {
      "text/plain": [
       "bool"
      ]
     },
     "execution_count": 59,
     "metadata": {},
     "output_type": "execute_result"
    }
   ],
   "source": [
    "type(False)\n",
    "# bool "
   ]
  },
  {
   "cell_type": "code",
   "execution_count": 61,
   "id": "0259163a",
   "metadata": {},
   "outputs": [
    {
     "data": {
      "text/plain": [
       "str"
      ]
     },
     "execution_count": 61,
     "metadata": {},
     "output_type": "execute_result"
    }
   ],
   "source": [
    "type('0')\n",
    "# string"
   ]
  },
  {
   "cell_type": "code",
   "execution_count": 62,
   "id": "3e208bb9",
   "metadata": {},
   "outputs": [
    {
     "data": {
      "text/plain": [
       "int"
      ]
     },
     "execution_count": 62,
     "metadata": {},
     "output_type": "execute_result"
    }
   ],
   "source": [
    "type(0)\n",
    "# int"
   ]
  },
  {
   "cell_type": "code",
   "execution_count": 63,
   "id": "ddfddc74",
   "metadata": {},
   "outputs": [
    {
     "data": {
      "text/plain": [
       "bool"
      ]
     },
     "execution_count": 63,
     "metadata": {},
     "output_type": "execute_result"
    }
   ],
   "source": [
    "type(True) \n",
    "# bool "
   ]
  },
  {
   "cell_type": "code",
   "execution_count": 64,
   "id": "76ba3fb2",
   "metadata": {},
   "outputs": [
    {
     "data": {
      "text/plain": [
       "str"
      ]
     },
     "execution_count": 64,
     "metadata": {},
     "output_type": "execute_result"
    }
   ],
   "source": [
    "type('True')\n",
    "# string"
   ]
  },
  {
   "cell_type": "code",
   "execution_count": 65,
   "id": "174f6198",
   "metadata": {},
   "outputs": [
    {
     "data": {
      "text/plain": [
       "list"
      ]
     },
     "execution_count": 65,
     "metadata": {},
     "output_type": "execute_result"
    }
   ],
   "source": [
    "type([{}])\n",
    "# list"
   ]
  },
  {
   "cell_type": "code",
   "execution_count": 66,
   "id": "a776a6fb",
   "metadata": {},
   "outputs": [
    {
     "data": {
      "text/plain": [
       "dict"
      ]
     },
     "execution_count": 66,
     "metadata": {},
     "output_type": "execute_result"
    }
   ],
   "source": [
    "type({'a': []})\n",
    "# dictionary "
   ]
  },
  {
   "cell_type": "markdown",
   "id": "c7a4af74",
   "metadata": {},
   "source": [
    "A term or phrase typed into a search box\n",
    "    - string \n",
    "    \n",
    "Whether or not a user is logged in\n",
    "    - Bool\n",
    "    \n",
    "A discount amount to apply to a user's shopping cart\n",
    "    - float\n",
    "\n",
    "Whether or not a coupon code is valid\n",
    "    - Bool\n",
    "\n",
    "An email address typed into a registration form\n",
    "    - string\n",
    "\n",
    "The price of a product\n",
    "    - float\n",
    "\n",
    "The email addresses collected from a registration form\n",
    "    - list of string\n",
    "\n",
    "Information about applicants to Codeup's data science program\n",
    "    - dict"
   ]
  },
  {
   "cell_type": "code",
   "execution_count": 2,
   "id": "8afd9ba1",
   "metadata": {},
   "outputs": [
    {
     "ename": "TypeError",
     "evalue": "can only concatenate str (not \"int\") to str",
     "output_type": "error",
     "traceback": [
      "\u001b[0;31m---------------------------------------------------------------------------\u001b[0m",
      "\u001b[0;31mTypeError\u001b[0m                                 Traceback (most recent call last)",
      "Cell \u001b[0;32mIn[2], line 1\u001b[0m\n\u001b[0;32m----> 1\u001b[0m \u001b[38;5;124;43m'\u001b[39;49m\u001b[38;5;124;43m1\u001b[39;49m\u001b[38;5;124;43m'\u001b[39;49m\u001b[43m \u001b[49m\u001b[38;5;241;43m+\u001b[39;49m\u001b[43m \u001b[49m\u001b[38;5;241;43m2\u001b[39;49m\n",
      "\u001b[0;31mTypeError\u001b[0m: can only concatenate str (not \"int\") to str"
     ]
    }
   ],
   "source": [
    "'1' + 2"
   ]
  },
  {
   "cell_type": "markdown",
   "id": "2eeb3728",
   "metadata": {},
   "source": [
    "can't add an int to a str"
   ]
  },
  {
   "cell_type": "code",
   "execution_count": 3,
   "id": "5806f318",
   "metadata": {},
   "outputs": [
    {
     "data": {
      "text/plain": [
       "2"
      ]
     },
     "execution_count": 3,
     "metadata": {},
     "output_type": "execute_result"
    }
   ],
   "source": [
    "6 % 4"
   ]
  },
  {
   "cell_type": "markdown",
   "id": "03125031",
   "metadata": {},
   "source": [
    "1 remainder 2"
   ]
  },
  {
   "cell_type": "code",
   "execution_count": 4,
   "id": "8e0ab738",
   "metadata": {},
   "outputs": [
    {
     "data": {
      "text/plain": [
       "int"
      ]
     },
     "execution_count": 4,
     "metadata": {},
     "output_type": "execute_result"
    }
   ],
   "source": [
    "type(6 % 4)"
   ]
  },
  {
   "cell_type": "markdown",
   "id": "1d9037fe",
   "metadata": {},
   "source": [
    "int"
   ]
  },
  {
   "cell_type": "code",
   "execution_count": 5,
   "id": "19b38575",
   "metadata": {},
   "outputs": [
    {
     "data": {
      "text/plain": [
       "type"
      ]
     },
     "execution_count": 5,
     "metadata": {},
     "output_type": "execute_result"
    }
   ],
   "source": [
    "type(type(6 % 4))"
   ]
  },
  {
   "cell_type": "markdown",
   "id": "530f1708",
   "metadata": {},
   "source": [
    "Type can also be applyed to functions"
   ]
  },
  {
   "cell_type": "code",
   "execution_count": 6,
   "id": "d4f08748",
   "metadata": {},
   "outputs": [
    {
     "ename": "TypeError",
     "evalue": "can only concatenate str (not \"int\") to str",
     "output_type": "error",
     "traceback": [
      "\u001b[0;31m---------------------------------------------------------------------------\u001b[0m",
      "\u001b[0;31mTypeError\u001b[0m                                 Traceback (most recent call last)",
      "Cell \u001b[0;32mIn[6], line 1\u001b[0m\n\u001b[0;32m----> 1\u001b[0m \u001b[38;5;124;43m'\u001b[39;49m\u001b[38;5;124;43m3 + 4 is \u001b[39;49m\u001b[38;5;124;43m'\u001b[39;49m\u001b[43m \u001b[49m\u001b[38;5;241;43m+\u001b[39;49m\u001b[43m \u001b[49m\u001b[38;5;241;43m3\u001b[39;49m \u001b[38;5;241m+\u001b[39m \u001b[38;5;241m4\u001b[39m\n",
      "\u001b[0;31mTypeError\u001b[0m: can only concatenate str (not \"int\") to str"
     ]
    }
   ],
   "source": [
    "'3 + 4 is ' + 3 + 4"
   ]
  },
  {
   "cell_type": "markdown",
   "id": "51f47c39",
   "metadata": {},
   "source": [
    "can't add an int to a str"
   ]
  },
  {
   "cell_type": "code",
   "execution_count": 7,
   "id": "2dcd5ca9",
   "metadata": {},
   "outputs": [
    {
     "data": {
      "text/plain": [
       "False"
      ]
     },
     "execution_count": 7,
     "metadata": {},
     "output_type": "execute_result"
    }
   ],
   "source": [
    "0 < 0"
   ]
  },
  {
   "cell_type": "markdown",
   "id": "baa7c4a8",
   "metadata": {},
   "source": [
    "False"
   ]
  },
  {
   "cell_type": "code",
   "execution_count": 8,
   "id": "007eac85",
   "metadata": {},
   "outputs": [
    {
     "data": {
      "text/plain": [
       "False"
      ]
     },
     "execution_count": 8,
     "metadata": {},
     "output_type": "execute_result"
    }
   ],
   "source": [
    "'False' == False"
   ]
  },
  {
   "cell_type": "markdown",
   "id": "7da0f208",
   "metadata": {},
   "source": [
    "False"
   ]
  },
  {
   "cell_type": "code",
   "execution_count": 9,
   "id": "2758b7e3",
   "metadata": {},
   "outputs": [
    {
     "data": {
      "text/plain": [
       "False"
      ]
     },
     "execution_count": 9,
     "metadata": {},
     "output_type": "execute_result"
    }
   ],
   "source": [
    "True == 'True'"
   ]
  },
  {
   "cell_type": "markdown",
   "id": "055e0bab",
   "metadata": {},
   "source": [
    "False"
   ]
  },
  {
   "cell_type": "code",
   "execution_count": 10,
   "id": "0aa807eb",
   "metadata": {},
   "outputs": [
    {
     "data": {
      "text/plain": [
       "True"
      ]
     },
     "execution_count": 10,
     "metadata": {},
     "output_type": "execute_result"
    }
   ],
   "source": [
    "5 >= -5"
   ]
  },
  {
   "cell_type": "markdown",
   "id": "6ea8840b",
   "metadata": {},
   "source": [
    "True"
   ]
  },
  {
   "cell_type": "code",
   "execution_count": 11,
   "id": "557978d6",
   "metadata": {},
   "outputs": [
    {
     "data": {
      "text/plain": [
       "True"
      ]
     },
     "execution_count": 11,
     "metadata": {},
     "output_type": "execute_result"
    }
   ],
   "source": [
    "True or \"42\""
   ]
  },
  {
   "cell_type": "markdown",
   "id": "25bd649a",
   "metadata": {},
   "source": [
    "True"
   ]
  },
  {
   "cell_type": "code",
   "execution_count": 12,
   "id": "9ab04994",
   "metadata": {},
   "outputs": [
    {
     "data": {
      "text/plain": [
       "1"
      ]
     },
     "execution_count": 12,
     "metadata": {},
     "output_type": "execute_result"
    }
   ],
   "source": [
    "6 % 5"
   ]
  },
  {
   "cell_type": "markdown",
   "id": "a68dcdaf",
   "metadata": {},
   "source": [
    "1 remainder 1"
   ]
  },
  {
   "cell_type": "code",
   "execution_count": 14,
   "id": "3aae5253",
   "metadata": {},
   "outputs": [
    {
     "data": {
      "text/plain": [
       "False"
      ]
     },
     "execution_count": 14,
     "metadata": {},
     "output_type": "execute_result"
    }
   ],
   "source": [
    "5 < 4 and 1 == 1"
   ]
  },
  {
   "cell_type": "markdown",
   "id": "936d1486",
   "metadata": {},
   "source": [
    "False"
   ]
  },
  {
   "cell_type": "code",
   "execution_count": 15,
   "id": "f261d1f0",
   "metadata": {},
   "outputs": [
    {
     "data": {
      "text/plain": [
       "False"
      ]
     },
     "execution_count": 15,
     "metadata": {},
     "output_type": "execute_result"
    }
   ],
   "source": [
    "'codeup' == 'codeup' and 'codeup' == 'Codeup'"
   ]
  },
  {
   "cell_type": "markdown",
   "id": "d46d7714",
   "metadata": {},
   "source": [
    "false"
   ]
  },
  {
   "cell_type": "code",
   "execution_count": 16,
   "id": "6d83023f",
   "metadata": {},
   "outputs": [
    {
     "ename": "SyntaxError",
     "evalue": "invalid syntax (383778220.py, line 1)",
     "output_type": "error",
     "traceback": [
      "\u001b[0;36m  Cell \u001b[0;32mIn[16], line 1\u001b[0;36m\u001b[0m\n\u001b[0;31m    4 >= 0 and 1 !== '1'\u001b[0m\n\u001b[0m                   ^\u001b[0m\n\u001b[0;31mSyntaxError\u001b[0m\u001b[0;31m:\u001b[0m invalid syntax\n"
     ]
    }
   ],
   "source": [
    "4 >= 0 and 1 !== '1'"
   ]
  },
  {
   "cell_type": "markdown",
   "id": "2fc743aa",
   "metadata": {},
   "source": [
    "!== is incorrect syntax"
   ]
  },
  {
   "cell_type": "code",
   "execution_count": 17,
   "id": "23d0091d",
   "metadata": {},
   "outputs": [
    {
     "data": {
      "text/plain": [
       "True"
      ]
     },
     "execution_count": 17,
     "metadata": {},
     "output_type": "execute_result"
    }
   ],
   "source": [
    "6 % 3 == 0"
   ]
  },
  {
   "cell_type": "markdown",
   "id": "dc5f56a1",
   "metadata": {},
   "source": [
    "true"
   ]
  },
  {
   "cell_type": "code",
   "execution_count": 18,
   "id": "3486f1ca",
   "metadata": {},
   "outputs": [
    {
     "data": {
      "text/plain": [
       "True"
      ]
     },
     "execution_count": 18,
     "metadata": {},
     "output_type": "execute_result"
    }
   ],
   "source": [
    "5 % 2 != 0"
   ]
  },
  {
   "cell_type": "markdown",
   "id": "fdca468f",
   "metadata": {},
   "source": [
    "true"
   ]
  },
  {
   "cell_type": "code",
   "execution_count": 20,
   "id": "9c3d2378",
   "metadata": {},
   "outputs": [
    {
     "ename": "TypeError",
     "evalue": "can only concatenate list (not \"int\") to list",
     "output_type": "error",
     "traceback": [
      "\u001b[0;31m---------------------------------------------------------------------------\u001b[0m",
      "\u001b[0;31mTypeError\u001b[0m                                 Traceback (most recent call last)",
      "Cell \u001b[0;32mIn[20], line 1\u001b[0m\n\u001b[0;32m----> 1\u001b[0m \u001b[43m[\u001b[49m\u001b[38;5;241;43m1\u001b[39;49m\u001b[43m]\u001b[49m\u001b[43m \u001b[49m\u001b[38;5;241;43m+\u001b[39;49m\u001b[43m \u001b[49m\u001b[38;5;241;43m2\u001b[39;49m\n",
      "\u001b[0;31mTypeError\u001b[0m: can only concatenate list (not \"int\") to list"
     ]
    }
   ],
   "source": [
    "[1] + 2"
   ]
  },
  {
   "cell_type": "markdown",
   "id": "a9f88b07",
   "metadata": {},
   "source": [
    "can't add a list to an int"
   ]
  },
  {
   "cell_type": "code",
   "execution_count": 21,
   "id": "326adb45",
   "metadata": {},
   "outputs": [
    {
     "data": {
      "text/plain": [
       "[1, 2]"
      ]
     },
     "execution_count": 21,
     "metadata": {},
     "output_type": "execute_result"
    }
   ],
   "source": [
    "[1] + [2]"
   ]
  },
  {
   "cell_type": "markdown",
   "id": "ae309e14",
   "metadata": {},
   "source": [
    "[1, 2]"
   ]
  },
  {
   "cell_type": "code",
   "execution_count": 22,
   "id": "084e6018",
   "metadata": {},
   "outputs": [
    {
     "data": {
      "text/plain": [
       "[1, 1]"
      ]
     },
     "execution_count": 22,
     "metadata": {},
     "output_type": "execute_result"
    }
   ],
   "source": [
    "[1] * 2"
   ]
  },
  {
   "cell_type": "markdown",
   "id": "0c51767e",
   "metadata": {},
   "source": [
    "[1, 1]"
   ]
  },
  {
   "cell_type": "code",
   "execution_count": 23,
   "id": "1fc0d104",
   "metadata": {},
   "outputs": [
    {
     "ename": "TypeError",
     "evalue": "can't multiply sequence by non-int of type 'list'",
     "output_type": "error",
     "traceback": [
      "\u001b[0;31m---------------------------------------------------------------------------\u001b[0m",
      "\u001b[0;31mTypeError\u001b[0m                                 Traceback (most recent call last)",
      "Cell \u001b[0;32mIn[23], line 1\u001b[0m\n\u001b[0;32m----> 1\u001b[0m \u001b[43m[\u001b[49m\u001b[38;5;241;43m1\u001b[39;49m\u001b[43m]\u001b[49m\u001b[43m \u001b[49m\u001b[38;5;241;43m*\u001b[39;49m\u001b[43m \u001b[49m\u001b[43m[\u001b[49m\u001b[38;5;241;43m2\u001b[39;49m\u001b[43m]\u001b[49m\n",
      "\u001b[0;31mTypeError\u001b[0m: can't multiply sequence by non-int of type 'list'"
     ]
    }
   ],
   "source": [
    "[1] * [2]"
   ]
  },
  {
   "cell_type": "markdown",
   "id": "324ae0b6",
   "metadata": {},
   "source": [
    "can't multiply 2 lists"
   ]
  },
  {
   "cell_type": "code",
   "execution_count": 24,
   "id": "378a44af",
   "metadata": {},
   "outputs": [
    {
     "data": {
      "text/plain": [
       "True"
      ]
     },
     "execution_count": 24,
     "metadata": {},
     "output_type": "execute_result"
    }
   ],
   "source": [
    "[] + [] == []"
   ]
  },
  {
   "cell_type": "markdown",
   "id": "9ffe19bb",
   "metadata": {},
   "source": [
    "true"
   ]
  },
  {
   "cell_type": "code",
   "execution_count": 26,
   "id": "80649db7",
   "metadata": {},
   "outputs": [
    {
     "ename": "TypeError",
     "evalue": "unsupported operand type(s) for +: 'dict' and 'dict'",
     "output_type": "error",
     "traceback": [
      "\u001b[0;31m---------------------------------------------------------------------------\u001b[0m",
      "\u001b[0;31mTypeError\u001b[0m                                 Traceback (most recent call last)",
      "Cell \u001b[0;32mIn[26], line 1\u001b[0m\n\u001b[0;32m----> 1\u001b[0m \u001b[43m{\u001b[49m\u001b[43m}\u001b[49m\u001b[43m \u001b[49m\u001b[38;5;241;43m+\u001b[39;49m\u001b[43m \u001b[49m\u001b[43m{\u001b[49m\u001b[43m}\u001b[49m\n",
      "\u001b[0;31mTypeError\u001b[0m: unsupported operand type(s) for +: 'dict' and 'dict'"
     ]
    }
   ],
   "source": [
    "{} + {}"
   ]
  },
  {
   "cell_type": "markdown",
   "id": "18ddd89f",
   "metadata": {},
   "source": [
    "can't add 2 dict"
   ]
  },
  {
   "cell_type": "code",
   "execution_count": null,
   "id": "57790877",
   "metadata": {},
   "outputs": [],
   "source": []
  },
  {
   "cell_type": "markdown",
   "id": "3a1e2162",
   "metadata": {},
   "source": [
    "5. You have rented some movies for your kids:\n",
    "\n",
    "The Little Mermaid for 3 days\n",
    "Brother Bear for 5 days\n",
    "Hercules for 1 day\n",
    "If the daily fee to rent a movie is 3 dollars, how much will you have to pay?"
   ]
  },
  {
   "cell_type": "code",
   "execution_count": 28,
   "id": "71baebe3",
   "metadata": {},
   "outputs": [],
   "source": [
    "daily_fee = 3\n",
    "lm = 'The little Mermaid'\n",
    "bb = 'Brother Bear'\n",
    "h = 'Hercules'"
   ]
  },
  {
   "cell_type": "code",
   "execution_count": 31,
   "id": "ce85eb94",
   "metadata": {},
   "outputs": [],
   "source": [
    "lm = daily_fee * 3\n",
    "bb = daily_fee * 5\n",
    "h = daily_fee * 1"
   ]
  },
  {
   "cell_type": "code",
   "execution_count": 33,
   "id": "b281eb81",
   "metadata": {},
   "outputs": [
    {
     "data": {
      "text/plain": [
       "3"
      ]
     },
     "execution_count": 33,
     "metadata": {},
     "output_type": "execute_result"
    }
   ],
   "source": [
    "lm\n"
   ]
  },
  {
   "cell_type": "code",
   "execution_count": 34,
   "id": "b594e2ce",
   "metadata": {},
   "outputs": [
    {
     "data": {
      "text/plain": [
       "15"
      ]
     },
     "execution_count": 34,
     "metadata": {},
     "output_type": "execute_result"
    }
   ],
   "source": [
    "bb"
   ]
  },
  {
   "cell_type": "code",
   "execution_count": 35,
   "id": "bb817805",
   "metadata": {},
   "outputs": [
    {
     "data": {
      "text/plain": [
       "3"
      ]
     },
     "execution_count": 35,
     "metadata": {},
     "output_type": "execute_result"
    }
   ],
   "source": [
    "h"
   ]
  },
  {
   "cell_type": "code",
   "execution_count": 117,
   "id": "b0291584",
   "metadata": {},
   "outputs": [],
   "source": [
    "total_cost = lm + bb + h"
   ]
  },
  {
   "cell_type": "code",
   "execution_count": 118,
   "id": "35159ff0",
   "metadata": {},
   "outputs": [
    {
     "data": {
      "text/plain": [
       "27"
      ]
     },
     "execution_count": 118,
     "metadata": {},
     "output_type": "execute_result"
    }
   ],
   "source": [
    "total_cost"
   ]
  },
  {
   "cell_type": "markdown",
   "id": "f5ad3785",
   "metadata": {},
   "source": [
    "6. Suppose you're working as a contractor for 3 companies: Google, Amazon and Facebook.\n",
    "\n",
    "They pay you the following hourly rates:\n",
    "\n",
    "Google: 400 dollars\n",
    "Amazon: 380 dollars\n",
    "Facebook: 350 dollars\n",
    "\n",
    "This week you worked: 10 hours for Facebook, 6 hours for Google and 4 hours for Amazon.\n",
    "\n",
    "How much will you receive in payment for this week?"
   ]
  },
  {
   "cell_type": "code",
   "execution_count": 36,
   "id": "45609ef3",
   "metadata": {},
   "outputs": [],
   "source": [
    "google = 400\n",
    "amazon = 380\n",
    "facebook = 350"
   ]
  },
  {
   "cell_type": "code",
   "execution_count": 119,
   "id": "432de77b",
   "metadata": {},
   "outputs": [],
   "source": [
    "week_pay = google * 6 + facebook * 10 + amazon * 4"
   ]
  },
  {
   "cell_type": "code",
   "execution_count": 120,
   "id": "2ea8255b",
   "metadata": {},
   "outputs": [
    {
     "data": {
      "text/plain": [
       "7420"
      ]
     },
     "execution_count": 120,
     "metadata": {},
     "output_type": "execute_result"
    }
   ],
   "source": [
    "week_pay"
   ]
  },
  {
   "cell_type": "markdown",
   "id": "35119d19",
   "metadata": {},
   "source": [
    "A student can be enrolled to a class only if the class is not full and the class schedule does not conflict with her current schedule."
   ]
  },
  {
   "cell_type": "code",
   "execution_count": 69,
   "id": "dfab10e9",
   "metadata": {},
   "outputs": [],
   "source": [
    "new_class = True \n",
    "full_class = False\n",
    "current_schedual = True \n",
    "class_schedual = False"
   ]
  },
  {
   "cell_type": "code",
   "execution_count": 71,
   "id": "d3c20046",
   "metadata": {},
   "outputs": [
    {
     "data": {
      "text/plain": [
       "True"
      ]
     },
     "execution_count": 71,
     "metadata": {},
     "output_type": "execute_result"
    }
   ],
   "source": [
    "new_class == current_schedual"
   ]
  },
  {
   "cell_type": "code",
   "execution_count": 72,
   "id": "2b05a330",
   "metadata": {},
   "outputs": [
    {
     "data": {
      "text/plain": [
       "False"
      ]
     },
     "execution_count": 72,
     "metadata": {},
     "output_type": "execute_result"
    }
   ],
   "source": [
    "new_class == class_schedual "
   ]
  },
  {
   "cell_type": "markdown",
   "id": "71def917",
   "metadata": {},
   "source": [
    "A product offer can be applied only if people buys more than 2 items, and the offer has not expired. Premium members do not need to buy a specific amount of products."
   ]
  },
  {
   "cell_type": "code",
   "execution_count": 80,
   "id": "decfadb5",
   "metadata": {},
   "outputs": [],
   "source": [
    "item = 3\n",
    "expire = True\n",
    "product_offer = item > 2 and expire is True\n",
    "premium_member = product_offer"
   ]
  },
  {
   "cell_type": "code",
   "execution_count": null,
   "id": "18ff89a2",
   "metadata": {},
   "outputs": [],
   "source": [
    "two_or_more = True\n",
    "not_expired = True \n"
   ]
  },
  {
   "cell_type": "code",
   "execution_count": 83,
   "id": "ab010337",
   "metadata": {},
   "outputs": [
    {
     "data": {
      "text/plain": [
       "True"
      ]
     },
     "execution_count": 83,
     "metadata": {},
     "output_type": "execute_result"
    }
   ],
   "source": [
    "product_offer"
   ]
  },
  {
   "cell_type": "code",
   "execution_count": 84,
   "id": "f4baaf48",
   "metadata": {},
   "outputs": [
    {
     "data": {
      "text/plain": [
       "True"
      ]
     },
     "execution_count": 84,
     "metadata": {},
     "output_type": "execute_result"
    }
   ],
   "source": [
    "premium_member"
   ]
  },
  {
   "cell_type": "markdown",
   "id": "ef59380a",
   "metadata": {},
   "source": [
    "9. Continue working in the data_types_and_variables.py file. Use the following code to follow the instructions below:\n",
    "\n",
    "Create a variable that holds a boolean value for each of the following conditions:\n",
    "\n",
    "The password must be at least 5 characters\n",
    "The username must be no more than 20 characters\n",
    "The password must not be the same as the username\n",
    "Bonus Neither the username or password can start or end with whitespace"
   ]
  },
  {
   "cell_type": "code",
   "execution_count": 108,
   "id": "eed597c8",
   "metadata": {},
   "outputs": [],
   "source": [
    "username = 'codeup'\n",
    "password = 'notastrongpassword'"
   ]
  },
  {
   "cell_type": "code",
   "execution_count": 109,
   "id": "d1191c6f",
   "metadata": {},
   "outputs": [
    {
     "data": {
      "text/plain": [
       "True"
      ]
     },
     "execution_count": 109,
     "metadata": {},
     "output_type": "execute_result"
    }
   ],
   "source": [
    "len(password) >= 5\n",
    "len(username) <= 20\n",
    "password != username"
   ]
  },
  {
   "cell_type": "code",
   "execution_count": 93,
   "id": "a4968feb",
   "metadata": {},
   "outputs": [
    {
     "data": {
      "text/plain": [
       "6"
      ]
     },
     "execution_count": 93,
     "metadata": {},
     "output_type": "execute_result"
    }
   ],
   "source": [
    "len(username)"
   ]
  },
  {
   "cell_type": "code",
   "execution_count": 114,
   "id": "8b86d083",
   "metadata": {},
   "outputs": [],
   "source": [
    "username = 'dog'"
   ]
  },
  {
   "cell_type": "code",
   "execution_count": 115,
   "id": "fd6a8809",
   "metadata": {},
   "outputs": [
    {
     "data": {
      "text/plain": [
       "True"
      ]
     },
     "execution_count": 115,
     "metadata": {},
     "output_type": "execute_result"
    }
   ],
   "source": [
    "len(password) >= 5 and len(username) <= 20 and password != username"
   ]
  },
  {
   "cell_type": "code",
   "execution_count": null,
   "id": "efd28e97",
   "metadata": {},
   "outputs": [],
   "source": []
  },
  {
   "cell_type": "code",
   "execution_count": null,
   "id": "db87852a",
   "metadata": {},
   "outputs": [],
   "source": []
  }
 ],
 "metadata": {
  "kernelspec": {
   "display_name": "Python 3 (ipykernel)",
   "language": "python",
   "name": "python3"
  },
  "language_info": {
   "codemirror_mode": {
    "name": "ipython",
    "version": 3
   },
   "file_extension": ".py",
   "mimetype": "text/x-python",
   "name": "python",
   "nbconvert_exporter": "python",
   "pygments_lexer": "ipython3",
   "version": "3.10.9"
  }
 },
 "nbformat": 4,
 "nbformat_minor": 5
}
