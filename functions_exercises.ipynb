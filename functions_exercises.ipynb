{
 "cells": [
  {
   "cell_type": "markdown",
   "metadata": {},
   "source": [
    "1 \n",
    "Define a function named is_two. \n",
    "It should accept one input and return True if the passed input is either the number or the string 2, \n",
    "False otherwise."
   ]
  },
  {
   "cell_type": "code",
   "execution_count": 12,
   "metadata": {},
   "outputs": [],
   "source": [
    "def is_two(value):\n",
    "    return value == 2 or value == '2'"
   ]
  },
  {
   "cell_type": "markdown",
   "metadata": {},
   "source": [
    "2 Define a function named is_vowel. It should return True if the passed string is a vowel, False otherwise.\n"
   ]
  },
  {
   "cell_type": "code",
   "execution_count": 9,
   "metadata": {},
   "outputs": [],
   "source": [
    "def is_vowel(value):\n",
    "  return len(value) == 1 and value.lower() in 'aeiou' # or ['a', 'e', 'i', 'o', 'u']"
   ]
  },
  {
   "cell_type": "markdown",
   "metadata": {},
   "source": [
    "3 Define a function named is_consonant. It should return True if the passed string is a consonant, False otherwise. Use your is_vowel function to accomplish this.\n"
   ]
  },
  {
   "cell_type": "code",
   "execution_count": 8,
   "metadata": {},
   "outputs": [],
   "source": [
    "def is_consonant(value):\n",
    "  return len(value) == 1 and value.lower() not in \"aeiou\" and value.isalpha() # or ['a', 'e', 'i', 'o', 'u'] "
   ]
  },
  {
   "cell_type": "markdown",
   "metadata": {},
   "source": [
    "4 Define a function that accepts a string that is a word. The function should capitalize the first letter of the word if the word starts with a consonant.\n"
   ]
  },
  {
   "cell_type": "code",
   "execution_count": 7,
   "metadata": {},
   "outputs": [],
   "source": [
    "def capitalize_starting_consonant(my_string):\n",
    "    if len(my_string.split()) == 1:\n",
    "        my_new_string = ''\n",
    "        if is_consonant(my_string[0]):\n",
    "            my_new_string += my_string[0].upper() \n",
    "            my_new_string += my_string[1:]\n",
    "        else:\n",
    "            my_new_string = my_string\n",
    "    else:\n",
    "        my_new_string = my_string\n",
    "    return my_new_string"
   ]
  },
  {
   "cell_type": "markdown",
   "metadata": {},
   "source": [
    "5 Define a function named calculate_tip. It should accept a tip percentage (a number between 0 and 1) and the bill total, and return the amount to tip.\n"
   ]
  },
  {
   "cell_type": "code",
   "execution_count": 4,
   "metadata": {},
   "outputs": [],
   "source": [
    "def calculate_tip(bill, tip_percent):\n",
    "    tip_amount = bill * tip_percent\n",
    "    return tip_amount"
   ]
  },
  {
   "cell_type": "markdown",
   "metadata": {},
   "source": [
    "6 Define a function named apply_discount. It should accept a original price, and a discount percentage, and return the price after the discount is applied.\n"
   ]
  },
  {
   "cell_type": "code",
   "execution_count": 5,
   "metadata": {},
   "outputs": [],
   "source": [
    "def apply_discount(price, discount):\n",
    "    total_discount = price - (price * discount)\n",
    "    return total_discount"
   ]
  },
  {
   "cell_type": "markdown",
   "metadata": {},
   "source": [
    "7 Define a function named handle_commas. It should accept a string that is a number that contains commas in it as input, and return a number as output.\n"
   ]
  },
  {
   "cell_type": "code",
   "execution_count": 6,
   "metadata": {},
   "outputs": [],
   "source": [
    "def handle_commas(word):\n",
    "    return int(word.replace(',', ''))"
   ]
  },
  {
   "cell_type": "markdown",
   "metadata": {},
   "source": [
    "8 Define a function named get_letter_grade. It should accept a number and return the letter grade associated with that number (A-F).\n"
   ]
  },
  {
   "cell_type": "code",
   "execution_count": 11,
   "metadata": {},
   "outputs": [],
   "source": [
    "def get_letter_grade2(grade_number):\n",
    "    my_new_grade = ''\n",
    "    if grade_number >= 90:\n",
    "        my_new_grade =  'A'\n",
    "    elif grade_number >= 80:\n",
    "        my_new_grade = 'B'\n",
    "    elif grade_number >= 70:\n",
    "        my_new_grade = 'C'\n",
    "    return my_new_grade"
   ]
  },
  {
   "cell_type": "markdown",
   "metadata": {},
   "source": [
    "9 Define a function named remove_vowels that accepts a string and returns a string with all the vowels removed.\n"
   ]
  },
  {
   "cell_type": "code",
   "execution_count": 3,
   "metadata": {},
   "outputs": [],
   "source": [
    "def remove_vowels(word):\n",
    "    return word.replace('a', '').replace('e', '').replace('i', '').replace('o', '').replace('u', '')\n"
   ]
  },
  {
   "cell_type": "markdown",
   "metadata": {},
   "source": [
    "10 Define a function named normalize_name. It should accept a string and return a valid python identifier, that is:\n",
    "\n",
    "anything that is not a valid python identifier should be removed\n",
    "\n",
    "leading and trailing whitespace should be removed\n",
    "\n",
    "everything should be lowercase\n",
    "\n",
    "spaces should be replaced with underscores\n",
    "\n",
    "for example:\n",
    "\n",
    "Name will become name\n",
    "\n",
    "First Name will become first_name\n",
    "\n",
    "% Completed will become completed"
   ]
  },
  {
   "cell_type": "code",
   "execution_count": 2,
   "metadata": {},
   "outputs": [],
   "source": [
    "def normalize_name(some_bad_identifier):\n",
    "    my_new_string = ''\n",
    "    for i in some_bad_identifier:\n",
    "        if i.isalpha() or i.isdigit() or i == ' ':\n",
    "            my_new_string += i\n",
    "        else:\n",
    "            continue\n",
    "    return my_new_string.lower().strip().replace(' ','_')"
   ]
  },
  {
   "cell_type": "markdown",
   "metadata": {},
   "source": [
    "11 Write a function named cumulative_sum that accepts a list of numbers and returns a list that is the cumulative sum of the numbers in the list.\n",
    "\n",
    "cumulative_sum([1, 1, 1]) returns [1, 2, 3]\n",
    "\n",
    "cumulative_sum([1, 2, 3, 4]) returns [1, 3, 6, 10]"
   ]
  },
  {
   "cell_type": "code",
   "execution_count": 1,
   "metadata": {},
   "outputs": [],
   "source": [
    "def cumulative_sum(some_list):\n",
    "    mynewlist, num_sum = [], 0\n",
    "    for i in some_list:\n",
    "        num_sum += i\n",
    "        mynewlist.append(num_sum)\n",
    "    return mynewlist"
   ]
  }
 ],
 "metadata": {
  "kernelspec": {
   "display_name": "Python 3",
   "language": "python",
   "name": "python3"
  },
  "language_info": {
   "codemirror_mode": {
    "name": "ipython",
    "version": 3
   },
   "file_extension": ".py",
   "mimetype": "text/x-python",
   "name": "python",
   "nbconvert_exporter": "python",
   "pygments_lexer": "ipython3",
   "version": "3.9.6"
  },
  "orig_nbformat": 4
 },
 "nbformat": 4,
 "nbformat_minor": 2
}
